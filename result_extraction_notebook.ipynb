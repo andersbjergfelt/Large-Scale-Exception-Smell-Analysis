{
  "cells": [
    {
      "cell_type": "code",
      "execution_count": 1,
      "metadata": {
        "dotnet_interactive": {
          "language": "csharp"
        }
      },
      "source": [
        "import sys\n",
        "import os\n",
        "import ast\n",
        "import json\n",
        "from typing import Counter\n",
        "from git import repo\n",
        "from pydriller import RepositoryMining, git_repository\n",
        "from pydriller import GitRepository\n",
        "import time"
      ],
      "outputs": []
    },
    {
      "cell_type": "code",
      "execution_count": 1,
      "metadata": {
        "dotnet_interactive": {
          "language": "csharp"
        }
      },
      "source": [
        "\n",
        "try:     \n",
        "    with open(\"/Users/bjergfelt/Desktop/Kandidat/zeeguu/zeeguu-ecosystem_Zeeguu-Core_result.json\") as json_file:\n",
        "        data = json.load(json_file)\n",
        "        for key in data.keys():\n",
        "            if key == \"repo\" or key == \"total_commits\":\n",
        "                continue\n",
        "            ##print(key)\n",
        "            print(data.get(key))\n",
        "            ##for i in range(len(data.get(key[1]))):\n",
        "                ##print(data.get(key)[i])\n",
        "            ##    print()\n",
        "                \n",
        "\n",
        "        ##print(data[\"repo\"])\n",
        "        total_commits += data[\"total_commits\"]\n",
        "        \n",
        "        ##print(key)\n",
        "        \n",
        "except Exception as e:\n",
        "    print(str(e))  "
      ],
      "outputs": []
    }
  ],
  "metadata": {
    "kernelspec": {
      "display_name": ".NET (C#)",
      "language": "C#",
      "name": ".net-csharp"
    },
    "language_info": {
      "file_extension": ".cs",
      "mimetype": "text/x-csharp",
      "name": "C#",
      "pygments_lexer": "csharp",
      "version": "8.0"
    }
  },
  "nbformat": 4,
  "nbformat_minor": 4
}